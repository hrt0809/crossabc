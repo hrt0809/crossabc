{
 "cells": [
  {
   "cell_type": "markdown",
   "id": "87779f43-a7f7-4b31-a28a-bcb643abf22c",
   "metadata": {
    "tags": []
   },
   "source": [
    "# ふるさと納税クロスABC分析"
   ]
  },
  {
   "cell_type": "markdown",
   "id": "99ee17d2-a602-4678-b4f6-cce41b5173c6",
   "metadata": {},
   "source": [
    "ここでは，クロスABC分析の例として自治体別のふるさと納税のデータを用いて簡単な分類をおこないます．寄付金額と寄付件数を指標として，寄付金額，寄付件数がともに多い自治体を洗い出したり，寄付金額は多いけれども寄付件数が少ない自治体，あるいはその逆の自治体を抽出してみたいと思います．"
   ]
  },
  {
   "cell_type": "markdown",
   "id": "8a4cb19d-f344-41c4-9a88-33a4ff4a1158",
   "metadata": {
    "tags": []
   },
   "source": [
    "## 下準備"
   ]
  },
  {
   "cell_type": "markdown",
   "id": "02eed38b-84fe-4ed4-8190-add41f8d145b",
   "metadata": {},
   "source": [
    "分析をおこなうにあたって必要となるライブラリのインポートをおこないます．今回は描画処理をおこなう **matplotlib** と **seaborn**，さらにデータの処理などを楽におこなうことができる **pandas** を使用します．"
   ]
  },
  {
   "cell_type": "code",
   "execution_count": 1,
   "id": "b2ce4756-1165-4452-94bb-4927e93bd008",
   "metadata": {},
   "outputs": [],
   "source": [
    "import matplotlib.pyplot as plt\n",
    "import pandas as pd\n",
    "import seaborn as sns"
   ]
  },
  {
   "cell_type": "markdown",
   "id": "f2cfc957-d48e-47fa-bbf6-9de2e78ef001",
   "metadata": {},
   "source": [
    "また今回の肝である，**crossabc** もこの段階でインポートしておきます．**CrossABC** クラスを使用するので，"
   ]
  },
  {
   "cell_type": "code",
   "execution_count": 2,
   "id": "b4542287-792a-4042-a618-341312081968",
   "metadata": {},
   "outputs": [],
   "source": [
    "from crossabc import CrossABC"
   ]
  },
  {
   "cell_type": "markdown",
   "id": "0fdf8337-5efe-4f28-919e-5f49fc72c002",
   "metadata": {},
   "source": [
    "のようにインポートします．"
   ]
  },
  {
   "cell_type": "markdown",
   "id": "d686171b-e85a-4533-84f4-889e2468c011",
   "metadata": {
    "tags": []
   },
   "source": [
    "## データ紹介"
   ]
  },
  {
   "cell_type": "markdown",
   "id": "8f2ca6b5-9691-4a20-8915-dd36ace28dcc",
   "metadata": {},
   "source": [
    "それでは今回扱うデータ **example.csv** を紹介します．\n",
    "今回のデータは **ふるさと納税** に関するデータであり，**2008年度** から **2019年度** における各自治体の **寄付金額(amount_)**(単位は千円) と **寄付件数(number_)**(単位は件) が入力されています．\n",
    "**出典** は **総務省のふるさと納税ポータルサイト** の[関連資料](https://www.soumu.go.jp/main_sosiki/jichi_zeisei/czaisei/czaisei_seido/furusato/archive/)であり，そちらを元に加工しました．\n",
    "さっそくみてみましょう．"
   ]
  },
  {
   "cell_type": "code",
   "execution_count": 3,
   "id": "cff67691-a56a-425f-b100-7f262839a075",
   "metadata": {},
   "outputs": [
    {
     "data": {
      "text/html": [
       "<div>\n",
       "<style scoped>\n",
       "    .dataframe tbody tr th:only-of-type {\n",
       "        vertical-align: middle;\n",
       "    }\n",
       "\n",
       "    .dataframe tbody tr th {\n",
       "        vertical-align: top;\n",
       "    }\n",
       "\n",
       "    .dataframe thead th {\n",
       "        text-align: right;\n",
       "    }\n",
       "</style>\n",
       "<table border=\"1\" class=\"dataframe\">\n",
       "  <thead>\n",
       "    <tr style=\"text-align: right;\">\n",
       "      <th></th>\n",
       "      <th>Prefecture</th>\n",
       "      <th>amount_2008</th>\n",
       "      <th>amount_2009</th>\n",
       "      <th>amount_2010</th>\n",
       "      <th>amount_2011</th>\n",
       "      <th>amount_2012</th>\n",
       "      <th>amount_2013</th>\n",
       "      <th>amount_2014</th>\n",
       "      <th>amount_2015</th>\n",
       "      <th>amount_2016</th>\n",
       "      <th>...</th>\n",
       "      <th>number_2010</th>\n",
       "      <th>number_2011</th>\n",
       "      <th>number_2012</th>\n",
       "      <th>number_2013</th>\n",
       "      <th>number_2014</th>\n",
       "      <th>number_2015</th>\n",
       "      <th>number_2016</th>\n",
       "      <th>number_2017</th>\n",
       "      <th>number_2018</th>\n",
       "      <th>number_2019</th>\n",
       "    </tr>\n",
       "    <tr>\n",
       "      <th>City</th>\n",
       "      <th></th>\n",
       "      <th></th>\n",
       "      <th></th>\n",
       "      <th></th>\n",
       "      <th></th>\n",
       "      <th></th>\n",
       "      <th></th>\n",
       "      <th></th>\n",
       "      <th></th>\n",
       "      <th></th>\n",
       "      <th></th>\n",
       "      <th></th>\n",
       "      <th></th>\n",
       "      <th></th>\n",
       "      <th></th>\n",
       "      <th></th>\n",
       "      <th></th>\n",
       "      <th></th>\n",
       "      <th></th>\n",
       "      <th></th>\n",
       "      <th></th>\n",
       "    </tr>\n",
       "  </thead>\n",
       "  <tbody>\n",
       "    <tr>\n",
       "      <th>北海道</th>\n",
       "      <td>北海道</td>\n",
       "      <td>4660</td>\n",
       "      <td>52685</td>\n",
       "      <td>2770</td>\n",
       "      <td>3670</td>\n",
       "      <td>5688</td>\n",
       "      <td>10792</td>\n",
       "      <td>1798</td>\n",
       "      <td>2144</td>\n",
       "      <td>13457</td>\n",
       "      <td>...</td>\n",
       "      <td>25.0</td>\n",
       "      <td>32.0</td>\n",
       "      <td>139.0</td>\n",
       "      <td>267.0</td>\n",
       "      <td>64.0</td>\n",
       "      <td>39.0</td>\n",
       "      <td>51</td>\n",
       "      <td>98</td>\n",
       "      <td>3996</td>\n",
       "      <td>324</td>\n",
       "    </tr>\n",
       "    <tr>\n",
       "      <th>札幌市</th>\n",
       "      <td>北海道</td>\n",
       "      <td>397801</td>\n",
       "      <td>514419</td>\n",
       "      <td>11073</td>\n",
       "      <td>100330</td>\n",
       "      <td>121572</td>\n",
       "      <td>139244</td>\n",
       "      <td>200533</td>\n",
       "      <td>106100</td>\n",
       "      <td>364428</td>\n",
       "      <td>...</td>\n",
       "      <td>88.0</td>\n",
       "      <td>247.0</td>\n",
       "      <td>365.0</td>\n",
       "      <td>177.0</td>\n",
       "      <td>170.0</td>\n",
       "      <td>200.0</td>\n",
       "      <td>300</td>\n",
       "      <td>247</td>\n",
       "      <td>1219</td>\n",
       "      <td>2240</td>\n",
       "    </tr>\n",
       "    <tr>\n",
       "      <th>函館市</th>\n",
       "      <td>北海道</td>\n",
       "      <td>5177</td>\n",
       "      <td>4745</td>\n",
       "      <td>3301</td>\n",
       "      <td>3846</td>\n",
       "      <td>5139</td>\n",
       "      <td>14880</td>\n",
       "      <td>10573</td>\n",
       "      <td>17032</td>\n",
       "      <td>11380</td>\n",
       "      <td>...</td>\n",
       "      <td>47.0</td>\n",
       "      <td>53.0</td>\n",
       "      <td>66.0</td>\n",
       "      <td>150.0</td>\n",
       "      <td>257.0</td>\n",
       "      <td>240.0</td>\n",
       "      <td>207</td>\n",
       "      <td>4211</td>\n",
       "      <td>10744</td>\n",
       "      <td>43753</td>\n",
       "    </tr>\n",
       "    <tr>\n",
       "      <th>小樽市</th>\n",
       "      <td>北海道</td>\n",
       "      <td>56757</td>\n",
       "      <td>22717</td>\n",
       "      <td>30036</td>\n",
       "      <td>23209</td>\n",
       "      <td>11971</td>\n",
       "      <td>27136</td>\n",
       "      <td>38989</td>\n",
       "      <td>33039</td>\n",
       "      <td>50892</td>\n",
       "      <td>...</td>\n",
       "      <td>185.0</td>\n",
       "      <td>163.0</td>\n",
       "      <td>165.0</td>\n",
       "      <td>204.0</td>\n",
       "      <td>239.0</td>\n",
       "      <td>193.0</td>\n",
       "      <td>781</td>\n",
       "      <td>5552</td>\n",
       "      <td>7644</td>\n",
       "      <td>7346</td>\n",
       "    </tr>\n",
       "    <tr>\n",
       "      <th>旭川市</th>\n",
       "      <td>北海道</td>\n",
       "      <td>14090</td>\n",
       "      <td>33603</td>\n",
       "      <td>10271</td>\n",
       "      <td>7161</td>\n",
       "      <td>8414</td>\n",
       "      <td>22468</td>\n",
       "      <td>41834</td>\n",
       "      <td>103494</td>\n",
       "      <td>182256</td>\n",
       "      <td>...</td>\n",
       "      <td>98.0</td>\n",
       "      <td>84.0</td>\n",
       "      <td>95.0</td>\n",
       "      <td>150.0</td>\n",
       "      <td>224.0</td>\n",
       "      <td>2806.0</td>\n",
       "      <td>5404</td>\n",
       "      <td>7269</td>\n",
       "      <td>26142</td>\n",
       "      <td>81238</td>\n",
       "    </tr>\n",
       "  </tbody>\n",
       "</table>\n",
       "<p>5 rows × 25 columns</p>\n",
       "</div>"
      ],
      "text/plain": [
       "     Prefecture  amount_2008  amount_2009  amount_2010  amount_2011  \\\n",
       "City                                                                  \n",
       "北海道         北海道         4660        52685         2770         3670   \n",
       "札幌市         北海道       397801       514419        11073       100330   \n",
       "函館市         北海道         5177         4745         3301         3846   \n",
       "小樽市         北海道        56757        22717        30036        23209   \n",
       "旭川市         北海道        14090        33603        10271         7161   \n",
       "\n",
       "      amount_2012  amount_2013  amount_2014  amount_2015  amount_2016  ...  \\\n",
       "City                                                                   ...   \n",
       "北海道          5688        10792         1798         2144        13457  ...   \n",
       "札幌市        121572       139244       200533       106100       364428  ...   \n",
       "函館市          5139        14880        10573        17032        11380  ...   \n",
       "小樽市         11971        27136        38989        33039        50892  ...   \n",
       "旭川市          8414        22468        41834       103494       182256  ...   \n",
       "\n",
       "      number_2010  number_2011  number_2012  number_2013  number_2014  \\\n",
       "City                                                                    \n",
       "北海道          25.0         32.0        139.0        267.0         64.0   \n",
       "札幌市          88.0        247.0        365.0        177.0        170.0   \n",
       "函館市          47.0         53.0         66.0        150.0        257.0   \n",
       "小樽市         185.0        163.0        165.0        204.0        239.0   \n",
       "旭川市          98.0         84.0         95.0        150.0        224.0   \n",
       "\n",
       "      number_2015  number_2016  number_2017  number_2018  number_2019  \n",
       "City                                                                   \n",
       "北海道          39.0           51           98         3996          324  \n",
       "札幌市         200.0          300          247         1219         2240  \n",
       "函館市         240.0          207         4211        10744        43753  \n",
       "小樽市         193.0          781         5552         7644         7346  \n",
       "旭川市        2806.0         5404         7269        26142        81238  \n",
       "\n",
       "[5 rows x 25 columns]"
      ]
     },
     "execution_count": 3,
     "metadata": {},
     "output_type": "execute_result"
    }
   ],
   "source": [
    "df = pd.read_csv('example.csv', index_col=1)\n",
    "\n",
    "df.head()"
   ]
  },
  {
   "cell_type": "markdown",
   "id": "5e7e86c9-a2cb-44d3-b587-c34f916c08c8",
   "metadata": {},
   "source": [
    "**City** 列には，**各自治体の名前** が入力されています．またCity列に **県の名前** が入力されている場合は，ふるさと納税がその **県** に対して納められたということになります．"
   ]
  },
  {
   "cell_type": "markdown",
   "id": "7ccc2eee-0b8f-4f2c-9b1d-f54866dd5ea4",
   "metadata": {
    "tags": []
   },
   "source": [
    "## モジュールの紹介"
   ]
  },
  {
   "cell_type": "markdown",
   "id": "2ec2c4c2-d4ce-4427-8778-e79591050e5d",
   "metadata": {},
   "source": [
    "それではこのようなデータに対して簡単に分析をおこなってみましょう．\n",
    "まずは，**2019年度** において，**寄付金額(amount_2019)** と **寄付件数(number_2019)** が両者ともに多かった自治体を抽出してみたいと思います．このような時に活躍するのが，**CrossABC**です．手短にどのような分析手法か知りたい方はこちらの[記事](https://biz.moneyforward.com/accounting/basic/22225/)をオススメします．"
   ]
  },
  {
   "cell_type": "markdown",
   "id": "ee274b39-b1f2-4212-970c-f010c9f750d3",
   "metadata": {},
   "source": [
    "まずは分析用にデータを整形し直します(この工程は必ずしもおこなう必要はないです)．"
   ]
  },
  {
   "cell_type": "code",
   "execution_count": 4,
   "id": "1038d825-9891-4ae5-a427-d06de0fb2b71",
   "metadata": {},
   "outputs": [
    {
     "data": {
      "text/html": [
       "<div>\n",
       "<style scoped>\n",
       "    .dataframe tbody tr th:only-of-type {\n",
       "        vertical-align: middle;\n",
       "    }\n",
       "\n",
       "    .dataframe tbody tr th {\n",
       "        vertical-align: top;\n",
       "    }\n",
       "\n",
       "    .dataframe thead th {\n",
       "        text-align: right;\n",
       "    }\n",
       "</style>\n",
       "<table border=\"1\" class=\"dataframe\">\n",
       "  <thead>\n",
       "    <tr style=\"text-align: right;\">\n",
       "      <th></th>\n",
       "      <th>Prefecture</th>\n",
       "      <th>amount_2019</th>\n",
       "      <th>number_2019</th>\n",
       "    </tr>\n",
       "    <tr>\n",
       "      <th>City</th>\n",
       "      <th></th>\n",
       "      <th></th>\n",
       "      <th></th>\n",
       "    </tr>\n",
       "  </thead>\n",
       "  <tbody>\n",
       "    <tr>\n",
       "      <th>北海道</th>\n",
       "      <td>北海道</td>\n",
       "      <td>8209</td>\n",
       "      <td>324</td>\n",
       "    </tr>\n",
       "    <tr>\n",
       "      <th>札幌市</th>\n",
       "      <td>北海道</td>\n",
       "      <td>456499</td>\n",
       "      <td>2240</td>\n",
       "    </tr>\n",
       "    <tr>\n",
       "      <th>函館市</th>\n",
       "      <td>北海道</td>\n",
       "      <td>579859</td>\n",
       "      <td>43753</td>\n",
       "    </tr>\n",
       "    <tr>\n",
       "      <th>小樽市</th>\n",
       "      <td>北海道</td>\n",
       "      <td>152107</td>\n",
       "      <td>7346</td>\n",
       "    </tr>\n",
       "    <tr>\n",
       "      <th>旭川市</th>\n",
       "      <td>北海道</td>\n",
       "      <td>1313437</td>\n",
       "      <td>81238</td>\n",
       "    </tr>\n",
       "  </tbody>\n",
       "</table>\n",
       "</div>"
      ],
      "text/plain": [
       "     Prefecture  amount_2019  number_2019\n",
       "City                                     \n",
       "北海道         北海道         8209          324\n",
       "札幌市         北海道       456499         2240\n",
       "函館市         北海道       579859        43753\n",
       "小樽市         北海道       152107         7346\n",
       "旭川市         北海道      1313437        81238"
      ]
     },
     "execution_count": 4,
     "metadata": {},
     "output_type": "execute_result"
    }
   ],
   "source": [
    "analyzed_df = df[['Prefecture', 'amount_2019', 'number_2019']]\n",
    "\n",
    "analyzed_df.head()"
   ]
  },
  {
   "cell_type": "markdown",
   "id": "e4b48fe1-4ae3-4f40-b94a-59b26de960f6",
   "metadata": {
    "tags": []
   },
   "source": [
    "次に，**クロスABCオブジェクト** を作成します．**crossabc.CrossABC()** は\n",
    "- 第1引数: **df** (pandas.Dataframe型で，カラム数が最低2個以上必要)\n",
    "- 第2引数: **indicators** (指標のリスト． 第1引数で指定したdfのカラム名から相異なる2つのカラムを指定)\n",
    "\n",
    "を必要とします．"
   ]
  },
  {
   "cell_type": "code",
   "execution_count": 5,
   "id": "ec272834-bbd2-491c-9b45-7b5c4d054133",
   "metadata": {},
   "outputs": [],
   "source": [
    "cross_abc = CrossABC.create(analyzed_df, indicators=['amount_2019', 'number_2019'])"
   ]
  },
  {
   "cell_type": "markdown",
   "id": "32c51098-c28f-488a-b4a0-2fd4910c63ea",
   "metadata": {},
   "source": [
    "**CrossABC().get_histgram()** メソッドは，上位 $x$ %に存在するデータ数を表した2次元の表を返します．横軸が第1指標(amount_2019)で 縦軸が第2指標(number_2019)であることに注意してください．pandas.Dataframe()の形式で返します．"
   ]
  },
  {
   "cell_type": "code",
   "execution_count": 6,
   "id": "9fef9bfc-7cc9-4d1f-bfed-e54b52a86741",
   "metadata": {},
   "outputs": [
    {
     "data": {
      "text/html": [
       "<div>\n",
       "<style scoped>\n",
       "    .dataframe tbody tr th:only-of-type {\n",
       "        vertical-align: middle;\n",
       "    }\n",
       "\n",
       "    .dataframe tbody tr th {\n",
       "        vertical-align: top;\n",
       "    }\n",
       "\n",
       "    .dataframe thead th {\n",
       "        text-align: right;\n",
       "    }\n",
       "</style>\n",
       "<table border=\"1\" class=\"dataframe\">\n",
       "  <thead>\n",
       "    <tr style=\"text-align: right;\">\n",
       "      <th></th>\n",
       "      <th>10%</th>\n",
       "      <th>20%</th>\n",
       "      <th>30%</th>\n",
       "      <th>40%</th>\n",
       "      <th>50%</th>\n",
       "      <th>60%</th>\n",
       "      <th>70%</th>\n",
       "      <th>80%</th>\n",
       "      <th>90%</th>\n",
       "      <th>100%</th>\n",
       "    </tr>\n",
       "  </thead>\n",
       "  <tbody>\n",
       "    <tr>\n",
       "      <th>10%</th>\n",
       "      <td>4</td>\n",
       "      <td>1</td>\n",
       "      <td>0</td>\n",
       "      <td>0</td>\n",
       "      <td>0</td>\n",
       "      <td>0</td>\n",
       "      <td>0</td>\n",
       "      <td>0</td>\n",
       "      <td>0</td>\n",
       "      <td>0</td>\n",
       "    </tr>\n",
       "    <tr>\n",
       "      <th>20%</th>\n",
       "      <td>0</td>\n",
       "      <td>6</td>\n",
       "      <td>5</td>\n",
       "      <td>0</td>\n",
       "      <td>0</td>\n",
       "      <td>0</td>\n",
       "      <td>0</td>\n",
       "      <td>0</td>\n",
       "      <td>0</td>\n",
       "      <td>0</td>\n",
       "    </tr>\n",
       "    <tr>\n",
       "      <th>30%</th>\n",
       "      <td>0</td>\n",
       "      <td>3</td>\n",
       "      <td>9</td>\n",
       "      <td>4</td>\n",
       "      <td>2</td>\n",
       "      <td>0</td>\n",
       "      <td>0</td>\n",
       "      <td>0</td>\n",
       "      <td>0</td>\n",
       "      <td>0</td>\n",
       "    </tr>\n",
       "    <tr>\n",
       "      <th>40%</th>\n",
       "      <td>0</td>\n",
       "      <td>1</td>\n",
       "      <td>1</td>\n",
       "      <td>13</td>\n",
       "      <td>9</td>\n",
       "      <td>2</td>\n",
       "      <td>1</td>\n",
       "      <td>0</td>\n",
       "      <td>0</td>\n",
       "      <td>0</td>\n",
       "    </tr>\n",
       "    <tr>\n",
       "      <th>50%</th>\n",
       "      <td>0</td>\n",
       "      <td>0</td>\n",
       "      <td>2</td>\n",
       "      <td>8</td>\n",
       "      <td>13</td>\n",
       "      <td>14</td>\n",
       "      <td>2</td>\n",
       "      <td>0</td>\n",
       "      <td>0</td>\n",
       "      <td>0</td>\n",
       "    </tr>\n",
       "    <tr>\n",
       "      <th>60%</th>\n",
       "      <td>0</td>\n",
       "      <td>1</td>\n",
       "      <td>0</td>\n",
       "      <td>4</td>\n",
       "      <td>8</td>\n",
       "      <td>19</td>\n",
       "      <td>20</td>\n",
       "      <td>3</td>\n",
       "      <td>0</td>\n",
       "      <td>0</td>\n",
       "    </tr>\n",
       "    <tr>\n",
       "      <th>70%</th>\n",
       "      <td>0</td>\n",
       "      <td>0</td>\n",
       "      <td>1</td>\n",
       "      <td>1</td>\n",
       "      <td>3</td>\n",
       "      <td>17</td>\n",
       "      <td>30</td>\n",
       "      <td>25</td>\n",
       "      <td>4</td>\n",
       "      <td>0</td>\n",
       "    </tr>\n",
       "    <tr>\n",
       "      <th>80%</th>\n",
       "      <td>0</td>\n",
       "      <td>0</td>\n",
       "      <td>2</td>\n",
       "      <td>0</td>\n",
       "      <td>5</td>\n",
       "      <td>7</td>\n",
       "      <td>20</td>\n",
       "      <td>51</td>\n",
       "      <td>35</td>\n",
       "      <td>1</td>\n",
       "    </tr>\n",
       "    <tr>\n",
       "      <th>90%</th>\n",
       "      <td>0</td>\n",
       "      <td>0</td>\n",
       "      <td>0</td>\n",
       "      <td>0</td>\n",
       "      <td>2</td>\n",
       "      <td>4</td>\n",
       "      <td>9</td>\n",
       "      <td>40</td>\n",
       "      <td>116</td>\n",
       "      <td>46</td>\n",
       "    </tr>\n",
       "    <tr>\n",
       "      <th>100%</th>\n",
       "      <td>0</td>\n",
       "      <td>0</td>\n",
       "      <td>0</td>\n",
       "      <td>0</td>\n",
       "      <td>2</td>\n",
       "      <td>3</td>\n",
       "      <td>9</td>\n",
       "      <td>15</td>\n",
       "      <td>74</td>\n",
       "      <td>1111</td>\n",
       "    </tr>\n",
       "  </tbody>\n",
       "</table>\n",
       "</div>"
      ],
      "text/plain": [
       "      10%  20%  30%  40%  50%  60%  70%  80%  90%  100%\n",
       "10%     4    1    0    0    0    0    0    0    0     0\n",
       "20%     0    6    5    0    0    0    0    0    0     0\n",
       "30%     0    3    9    4    2    0    0    0    0     0\n",
       "40%     0    1    1   13    9    2    1    0    0     0\n",
       "50%     0    0    2    8   13   14    2    0    0     0\n",
       "60%     0    1    0    4    8   19   20    3    0     0\n",
       "70%     0    0    1    1    3   17   30   25    4     0\n",
       "80%     0    0    2    0    5    7   20   51   35     1\n",
       "90%     0    0    0    0    2    4    9   40  116    46\n",
       "100%    0    0    0    0    2    3    9   15   74  1111"
      ]
     },
     "execution_count": 6,
     "metadata": {},
     "output_type": "execute_result"
    }
   ],
   "source": [
    "hist_df = cross_abc.get_histgram()\n",
    "\n",
    "hist_df"
   ]
  },
  {
   "cell_type": "markdown",
   "id": "14cc0571-2459-478c-82d7-17401453d88f",
   "metadata": {
    "tags": []
   },
   "source": [
    "この **hist_df** は非常に見づらいので **seaborn** の **heatmap** を利用して綺麗に描画してみたいと思います．"
   ]
  },
  {
   "cell_type": "code",
   "execution_count": 7,
   "id": "782655d6-9d14-468e-ab8b-716af65ac4c0",
   "metadata": {},
   "outputs": [
    {
     "data": {
      "image/png": "[encoded data removed]",
      "text/plain": [
       "<Figure size 864x576 with 2 Axes>"
      ]
     },
     "metadata": {
      "needs_background": "light"
     },
     "output_type": "display_data"
    }
   ],
   "source": [
    "plt.figure(figsize=(12, 8))\n",
    "sns.heatmap(hist_df, annot=True, annot_kws={'fontsize': 15}, fmt='d', cmap='Spectral_r')\n",
    "plt.xlabel('amount_2019', fontsize=20)\n",
    "plt.ylabel('number_2019', fontsize=20)\n",
    "plt.tight_layout()"
   ]
  },
  {
   "cell_type": "markdown",
   "id": "25a17fcc-3393-4a0e-b2d7-ae7ff1f4e82f",
   "metadata": {},
   "source": [
    "綺麗に描画できました．簡単に言えば左上に位置すればするほどその自治体は寄付金額が多額で，かつ寄付件数も多いことを表します．この図は各ブロックに含まれる自治体が何個あるのかを表現した図となります．"
   ]
  },
  {
   "cell_type": "markdown",
   "id": "fd1a40dd-67c6-415b-9de1-5a316692c756",
   "metadata": {
    "tags": []
   },
   "source": [
    "## 分析"
   ]
  },
  {
   "cell_type": "markdown",
   "id": "1c21b38f-22cb-493c-82a1-bfe20208e615",
   "metadata": {},
   "source": [
    "左上のように寄付金額も寄付件数も最も多いグループには果たしてどのような自治体が含まれているのでしょうか．\n",
    "またそのような自治体に共通するような特徴はあるのでしょうか．\n",
    "さっそく検証してみましょう．\n",
    "このような時は**CrossABC.get_elements()** メソッドを活用します．\n",
    "**第1指標(amount_2019)** が **上位10%以下(0.1, '<=')**，**第2指標(number_2019)** も **上位10%以下(0.1, '<=')** であるような自治体を抽出してみましょう．"
   ]
  },
  {
   "cell_type": "code",
   "execution_count": 8,
   "id": "c308aab0-992f-4e32-bee9-1bd1e4c9263f",
   "metadata": {},
   "outputs": [
    {
     "data": {
      "text/html": [
       "<div>\n",
       "<style scoped>\n",
       "    .dataframe tbody tr th:only-of-type {\n",
       "        vertical-align: middle;\n",
       "    }\n",
       "\n",
       "    .dataframe tbody tr th {\n",
       "        vertical-align: top;\n",
       "    }\n",
       "\n",
       "    .dataframe thead th {\n",
       "        text-align: right;\n",
       "    }\n",
       "</style>\n",
       "<table border=\"1\" class=\"dataframe\">\n",
       "  <thead>\n",
       "    <tr style=\"text-align: right;\">\n",
       "      <th></th>\n",
       "      <th>Prefecture</th>\n",
       "      <th>amount_2019</th>\n",
       "      <th>number_2019</th>\n",
       "    </tr>\n",
       "    <tr>\n",
       "      <th>City</th>\n",
       "      <th></th>\n",
       "      <th></th>\n",
       "      <th></th>\n",
       "    </tr>\n",
       "  </thead>\n",
       "  <tbody>\n",
       "    <tr>\n",
       "      <th>都城市</th>\n",
       "      <td>宮崎県</td>\n",
       "      <td>10645341</td>\n",
       "      <td>503916</td>\n",
       "    </tr>\n",
       "    <tr>\n",
       "      <th>白糠町</th>\n",
       "      <td>北海道</td>\n",
       "      <td>6733389</td>\n",
       "      <td>460533</td>\n",
       "    </tr>\n",
       "    <tr>\n",
       "      <th>紋別市</th>\n",
       "      <td>北海道</td>\n",
       "      <td>7737695</td>\n",
       "      <td>448803</td>\n",
       "    </tr>\n",
       "    <tr>\n",
       "      <th>泉佐野市</th>\n",
       "      <td>大阪府</td>\n",
       "      <td>18496917</td>\n",
       "      <td>307630</td>\n",
       "    </tr>\n",
       "  </tbody>\n",
       "</table>\n",
       "</div>"
      ],
      "text/plain": [
       "     Prefecture  amount_2019  number_2019\n",
       "City                                     \n",
       "都城市         宮崎県     10645341       503916\n",
       "白糠町         北海道      6733389       460533\n",
       "紋別市         北海道      7737695       448803\n",
       "泉佐野市        大阪府     18496917       307630"
      ]
     },
     "execution_count": 8,
     "metadata": {},
     "output_type": "execute_result"
    }
   ],
   "source": [
    "star_df = cross_abc.get_elements(ratios=[(0.1, '<='), (0.1, '<=')])\n",
    "\n",
    "star_df"
   ]
  },
  {
   "cell_type": "markdown",
   "id": "f191b146-c62b-4543-adfe-921128b3edd6",
   "metadata": {},
   "source": [
    "すると，上位にいる自治体は **都城市，白糠町，紋別市，泉佐野市** であることがわかりました．\n",
    "それでは次に，**寄付金額は多額だけれども寄付件数は少ない自治体**を見てみたいと思います．\n",
    "もしかしたら少し単価を下げることで，寄付件数を上げることができて納税額アップにつながるかもしれません．\n",
    "どのような自治体でどのような返礼品を用意しているのでしょうか．"
   ]
  },
  {
   "cell_type": "code",
   "execution_count": 9,
   "id": "3ba4f9b2-52e9-4ff5-bfd9-568da99c7a53",
   "metadata": {},
   "outputs": [
    {
     "data": {
      "text/html": [
       "<div>\n",
       "<style scoped>\n",
       "    .dataframe tbody tr th:only-of-type {\n",
       "        vertical-align: middle;\n",
       "    }\n",
       "\n",
       "    .dataframe tbody tr th {\n",
       "        vertical-align: top;\n",
       "    }\n",
       "\n",
       "    .dataframe thead th {\n",
       "        text-align: right;\n",
       "    }\n",
       "</style>\n",
       "<table border=\"1\" class=\"dataframe\">\n",
       "  <thead>\n",
       "    <tr style=\"text-align: right;\">\n",
       "      <th></th>\n",
       "      <th>Prefecture</th>\n",
       "      <th>amount_2019</th>\n",
       "      <th>number_2019</th>\n",
       "    </tr>\n",
       "    <tr>\n",
       "      <th>City</th>\n",
       "      <th></th>\n",
       "      <th></th>\n",
       "      <th></th>\n",
       "    </tr>\n",
       "  </thead>\n",
       "  <tbody>\n",
       "    <tr>\n",
       "      <th>幸田町</th>\n",
       "      <td>愛知県</td>\n",
       "      <td>3849675</td>\n",
       "      <td>36414</td>\n",
       "    </tr>\n",
       "  </tbody>\n",
       "</table>\n",
       "</div>"
      ],
      "text/plain": [
       "     Prefecture  amount_2019  number_2019\n",
       "City                                     \n",
       "幸田町         愛知県      3849675        36414"
      ]
     },
     "execution_count": 9,
     "metadata": {},
     "output_type": "execute_result"
    }
   ],
   "source": [
    "amount_good_df = cross_abc.get_elements(ratios=[(0.2, '<='), (0.5, '>=')])\n",
    "\n",
    "amount_good_df"
   ]
  },
  {
   "cell_type": "markdown",
   "id": "a2c62a78-f51e-40b4-b942-27d975362628",
   "metadata": {},
   "source": [
    "**愛知県** の**幸田町** が抽出できました．\n",
    "この町では返礼品として[寝具が用意されている](https://www.furusato-tax.jp/city/product/23501)ようで，単価も60,000円台と高額ですね．逆に，**寄付件数は多いけれども寄付金額は少ない自治体**を見てみたいと思います．\n",
    "もしかしたら少し単価の高い返礼品を準備することで，寄付金額を上げることができて納税額アップにつながるかもしれません．どのような自治体でどのような返礼品を用意しているのでしょうか．"
   ]
  },
  {
   "cell_type": "code",
   "execution_count": 10,
   "id": "5f621d05-9303-4860-8d2e-3ae07a434040",
   "metadata": {},
   "outputs": [
    {
     "data": {
      "text/html": [
       "<div>\n",
       "<style scoped>\n",
       "    .dataframe tbody tr th:only-of-type {\n",
       "        vertical-align: middle;\n",
       "    }\n",
       "\n",
       "    .dataframe tbody tr th {\n",
       "        vertical-align: top;\n",
       "    }\n",
       "\n",
       "    .dataframe thead th {\n",
       "        text-align: right;\n",
       "    }\n",
       "</style>\n",
       "<table border=\"1\" class=\"dataframe\">\n",
       "  <thead>\n",
       "    <tr style=\"text-align: right;\">\n",
       "      <th></th>\n",
       "      <th>Prefecture</th>\n",
       "      <th>amount_2019</th>\n",
       "      <th>number_2019</th>\n",
       "    </tr>\n",
       "    <tr>\n",
       "      <th>City</th>\n",
       "      <th></th>\n",
       "      <th></th>\n",
       "      <th></th>\n",
       "    </tr>\n",
       "  </thead>\n",
       "  <tbody>\n",
       "    <tr>\n",
       "      <th>当別町</th>\n",
       "      <td>北海道</td>\n",
       "      <td>1291814</td>\n",
       "      <td>108098</td>\n",
       "    </tr>\n",
       "    <tr>\n",
       "      <th>西伊豆町</th>\n",
       "      <td>静岡県</td>\n",
       "      <td>1193700</td>\n",
       "      <td>103690</td>\n",
       "    </tr>\n",
       "  </tbody>\n",
       "</table>\n",
       "</div>"
      ],
      "text/plain": [
       "     Prefecture  amount_2019  number_2019\n",
       "City                                     \n",
       "当別町         北海道      1291814       108098\n",
       "西伊豆町        静岡県      1193700       103690"
      ]
     },
     "execution_count": 10,
     "metadata": {},
     "output_type": "execute_result"
    }
   ],
   "source": [
    "num_good_df = cross_abc.get_elements(ratios=[(0.4, '>='), (0.3, '<=')])\n",
    "\n",
    "num_good_df"
   ]
  },
  {
   "cell_type": "markdown",
   "id": "1d94222c-55d9-4ed9-903e-cf764f8d52e5",
   "metadata": {},
   "source": [
    "**北海道** から **当別町** ，**静岡県** から **西伊豆町** が抽出できました．\n",
    "特に当別町については他自治体と比べて[単価の高い返礼品が少ない](https://www.furusato-tax.jp/city/product/01303)ので，[白糠町](https://www.furusato-tax.jp/city/product/01668)や[紋別市](https://www.furusato-tax.jp/city/product/01219)に倣って単価の高い返礼品を用意することで納税額アップが期待できそうです．最後に，ABC分析ではよく **「2割が8割を表現する」** の法則が成り立つといわれます．\n",
    "**2割(の自治体)が寄付金額(あるいは寄付件数)全体の8割を占めている** という構図ははたして成り立っているでしょうか．このデータ上には，全部で1,778の自治体が存在します．その中で，全体の寄付金額のうち8割までを占める自治体の数を求めると，"
   ]
  },
  {
   "cell_type": "code",
   "execution_count": 11,
   "id": "75c2dae2-f0b5-428b-8cf4-59c7cd1aab30",
   "metadata": {},
   "outputs": [
    {
     "data": {
      "text/html": [
       "<div>\n",
       "<style scoped>\n",
       "    .dataframe tbody tr th:only-of-type {\n",
       "        vertical-align: middle;\n",
       "    }\n",
       "\n",
       "    .dataframe tbody tr th {\n",
       "        vertical-align: top;\n",
       "    }\n",
       "\n",
       "    .dataframe thead th {\n",
       "        text-align: right;\n",
       "    }\n",
       "</style>\n",
       "<table border=\"1\" class=\"dataframe\">\n",
       "  <thead>\n",
       "    <tr style=\"text-align: right;\">\n",
       "      <th></th>\n",
       "      <th>Prefecture</th>\n",
       "      <th>amount_2019</th>\n",
       "      <th>number_2019</th>\n",
       "    </tr>\n",
       "    <tr>\n",
       "      <th>City</th>\n",
       "      <th></th>\n",
       "      <th></th>\n",
       "      <th></th>\n",
       "    </tr>\n",
       "  </thead>\n",
       "  <tbody>\n",
       "    <tr>\n",
       "      <th>都城市</th>\n",
       "      <td>宮崎県</td>\n",
       "      <td>10645341</td>\n",
       "      <td>503916</td>\n",
       "    </tr>\n",
       "    <tr>\n",
       "      <th>白糠町</th>\n",
       "      <td>北海道</td>\n",
       "      <td>6733389</td>\n",
       "      <td>460533</td>\n",
       "    </tr>\n",
       "    <tr>\n",
       "      <th>紋別市</th>\n",
       "      <td>北海道</td>\n",
       "      <td>7737695</td>\n",
       "      <td>448803</td>\n",
       "    </tr>\n",
       "    <tr>\n",
       "      <th>根室市</th>\n",
       "      <td>北海道</td>\n",
       "      <td>6589107</td>\n",
       "      <td>413575</td>\n",
       "    </tr>\n",
       "    <tr>\n",
       "      <th>泉佐野市</th>\n",
       "      <td>大阪府</td>\n",
       "      <td>18496917</td>\n",
       "      <td>307630</td>\n",
       "    </tr>\n",
       "    <tr>\n",
       "      <th>...</th>\n",
       "      <td>...</td>\n",
       "      <td>...</td>\n",
       "      <td>...</td>\n",
       "    </tr>\n",
       "    <tr>\n",
       "      <th>川崎市</th>\n",
       "      <td>神奈川県</td>\n",
       "      <td>373292</td>\n",
       "      <td>1622</td>\n",
       "    </tr>\n",
       "    <tr>\n",
       "      <th>東浦町</th>\n",
       "      <td>愛知県</td>\n",
       "      <td>449733</td>\n",
       "      <td>1430</td>\n",
       "    </tr>\n",
       "    <tr>\n",
       "      <th>常滑市</th>\n",
       "      <td>愛知県</td>\n",
       "      <td>346455</td>\n",
       "      <td>1087</td>\n",
       "    </tr>\n",
       "    <tr>\n",
       "      <th>松島町</th>\n",
       "      <td>宮城県</td>\n",
       "      <td>335282</td>\n",
       "      <td>861</td>\n",
       "    </tr>\n",
       "    <tr>\n",
       "      <th>軽井沢町</th>\n",
       "      <td>長野県</td>\n",
       "      <td>384673</td>\n",
       "      <td>464</td>\n",
       "    </tr>\n",
       "  </tbody>\n",
       "</table>\n",
       "<p>401 rows × 3 columns</p>\n",
       "</div>"
      ],
      "text/plain": [
       "     Prefecture  amount_2019  number_2019\n",
       "City                                     \n",
       "都城市         宮崎県     10645341       503916\n",
       "白糠町         北海道      6733389       460533\n",
       "紋別市         北海道      7737695       448803\n",
       "根室市         北海道      6589107       413575\n",
       "泉佐野市        大阪府     18496917       307630\n",
       "...         ...          ...          ...\n",
       "川崎市        神奈川県       373292         1622\n",
       "東浦町         愛知県       449733         1430\n",
       "常滑市         愛知県       346455         1087\n",
       "松島町         宮城県       335282          861\n",
       "軽井沢町        長野県       384673          464\n",
       "\n",
       "[401 rows x 3 columns]"
      ]
     },
     "execution_count": 11,
     "metadata": {},
     "output_type": "execute_result"
    }
   ],
   "source": [
    "ans_df = cross_abc.get_elements(ratios=[(0.8, '<='), (1.0, '<=')])\n",
    "\n",
    "ans_df"
   ]
  },
  {
   "cell_type": "markdown",
   "id": "fe23149d-5ce8-4ca8-ae8d-a09bf4f63ed1",
   "metadata": {},
   "source": [
    "**401** 自治体であることがわかりました．"
   ]
  },
  {
   "cell_type": "code",
   "execution_count": 12,
   "id": "01b94b9e-3d48-4c76-bc1e-5b982835c164",
   "metadata": {},
   "outputs": [
    {
     "name": "stdout",
     "output_type": "stream",
     "text": [
      "0.22553430821147358\n"
     ]
    }
   ],
   "source": [
    "print(401 / 1778)"
   ]
  },
  {
   "cell_type": "markdown",
   "id": "b777a487-e945-4851-b905-3ef1a4b2ca22",
   "metadata": {},
   "source": [
    "おおよそ **20%** が成り立ちました．"
   ]
  }
 ],
 "metadata": {
  "kernelspec": {
   "display_name": "Python 3 (ipykernel)",
   "language": "python",
   "name": "python3"
  },
  "language_info": {
   "codemirror_mode": {
    "name": "ipython",
    "version": 3
   },
   "file_extension": ".py",
   "mimetype": "text/x-python",
   "name": "python",
   "nbconvert_exporter": "python",
   "pygments_lexer": "ipython3",
   "version": "3.9.12"
  }
 },
 "nbformat": 4,
 "nbformat_minor": 5
}
